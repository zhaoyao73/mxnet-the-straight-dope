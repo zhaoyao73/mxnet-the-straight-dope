{
 "cells": [
  {
   "cell_type": "markdown",
   "metadata": {},
   "source": [
    "# Multilayer perceptrons from scratch\n",
    "\n",
    "In the previous chapters we showed how you could implement multiclass logistic regression \n",
    "(also called *softmax regression*)\n",
    "for classifiying images of handwritten digits into the 10 possible categories\n",
    "([from scratch](../chapter02_supervised-learning/softmax-regression-scratch.ipynb) and [with gluon](../chapter02_supervised-learning/softmax-regression-gluon.ipynb)). \n",
    "This is where things start to get fun.\n",
    "We understand how to wrangle data, \n",
    "coerce our outputs into a valid probability distribution,\n",
    "how to apply an appropriate loss function,\n",
    "and how to optimize over our parameters.\n",
    "Now that we've covered these preliminaries, \n",
    "we can extend our toolbox to include deep neural networks.\n",
    "\n",
    "Recall that before, we mapped our inputs directly onto our outputs through a single linear transformation.\n",
    "$$\\hat{y} = \\mbox{softmax}(W \\boldsymbol{x} + b)$$\n",
    "\n",
    "Graphically, we could depict the model like this, where the orange nodes represent inputs and the teal nodes on the top represent the output:\n",
    "![](https://github.com/zackchase/mxnet-the-straight-dope/blob/master/img/simple-softmax-net.png?raw=true)\n",
    "\n",
    "If our labels really were related to our input data by an approximately linear function,\n",
    "then this approach might be adequate.\n",
    "*But linearity is a strong assumption*.\n",
    "Linearity means that given an output of interest,\n",
    "for each input,\n",
    "increasing the value of the input should either drive the value of the output up\n",
    "or drive it down,\n",
    "irrespective of the value of the other inputs.\n",
    "\n",
    "Imagine the case of classifying cats and dogs based on black and white images.\n",
    "That's like saying that for each pixel, \n",
    "increasing its value either increases the probability that it depicts a dog or decreases it.\n",
    "That's not reasonable. After all, the world contains both black dogs and black cats, and both white dogs and white cats. \n",
    "\n",
    "Teasing out what is depicted in an image generally requires allowing more complex relationships between\n",
    "our inputs and outputs, considering the possibility that our pattern might be characterized by interactions among the many features. \n",
    "In these cases, linear models will have low accuracy. \n",
    "We can model a more general class of functions by incorporating one or more *hidden layers*.\n",
    "The easiest way to do this is to stack a bunch of layers of neurons on top of each other.\n",
    "Each layer feeds into the layer above it, until we generate an output.\n",
    "This architecture is commonly called a \"multilayer perceptron\".\n",
    "With an MLP, we're going to stack a bunch of layers on top of each other.\n",
    "\n",
    "$$ h_1 = \\phi(W_1\\boldsymbol{x} + b_1) $$\n",
    "$$ h_2 = \\phi(W_2\\boldsymbol{h_1} + b_2) $$\n",
    "$$...$$\n",
    "$$ h_n = \\phi(W_n\\boldsymbol{h_{n-1}} + b_n) $$\n",
    "\n",
    "Note that each layer requires its own set of parameters.\n",
    "For each hidden layer, we calculate its value by first applying a linear function \n",
    "to the activations of the layer below, and then applying an element-wise\n",
    "nonlinear activation function. \n",
    "Here, we've denoted the activation function for the hidden layers as $\\phi$.\n",
    "Finally, given the topmost hidden layer, we'll generate an output.\n",
    "Because we're still focusing on multiclass classification, we'll stick with the softmax activation in the output layer.\n",
    "\n",
    "$$ \\hat{y} = \\mbox{softmax}(W_y \\boldsymbol{h}_n + b_y)$$\n",
    "\n",
    "Graphically, a multilayer perceptron could be depicted like this:\n",
    "\n",
    "![](https://github.com/zackchase/mxnet-the-straight-dope/blob/master/img/multilayer-perceptron.png?raw=true)\n",
    "\n",
    "Multilayer perceptrons can account for complex interactions in the inputs because \n",
    "the hidden neurons depend on the values of each of the inputs. \n",
    "It's easy to design a hidden node that that does arbitrary computation,\n",
    "such as, for instance, logical operations on its inputs.\n",
    "And it's even widely known that multilayer perceptrons are universal approximators. \n",
    "That means that even for a single-hidden-layer neural network,\n",
    "with enough nodes, and the right set of weights, it could model any function at all!\n",
    "Actually learning that function is the hard part. \n",
    "And it turns out that we can approximate functions much more compactly if we use deeper (vs wider) neural networks.\n",
    "We'll get more into the math in a subsequent chapter, but for now let's actually build an MLP.\n",
    "In this example, we'll implement a multilayer perceptron with two hidden layers and one output layer."
   ]
  },
  {
   "cell_type": "markdown",
   "metadata": {},
   "source": [
    "## Imports"
   ]
  },
  {
   "cell_type": "code",
   "execution_count": 1,
   "metadata": {},
   "outputs": [],
   "source": [
    "from __future__ import print_function\n",
    "import mxnet as mx\n",
    "import numpy as np\n",
    "from mxnet import nd, autograd, gluon"
   ]
  },
  {
   "cell_type": "markdown",
   "metadata": {},
   "source": [
    "## Set contexts"
   ]
  },
  {
   "cell_type": "code",
   "execution_count": 2,
   "metadata": {},
   "outputs": [],
   "source": [
    "ctx = mx.gpu() if mx.test_utils.list_gpus() else mx.cpu()\n",
    "data_ctx = ctx\n",
    "model_ctx = ctx"
   ]
  },
  {
   "cell_type": "markdown",
   "metadata": {},
   "source": [
    "## Load MNIST data\n",
    "\n",
    "Let's go ahead and grab our data."
   ]
  },
  {
   "cell_type": "code",
   "execution_count": 3,
   "metadata": {},
   "outputs": [],
   "source": [
    "num_inputs = 784\n",
    "num_outputs = 10\n",
    "batch_size = 64\n",
    "num_examples = 60000\n",
    "def transform(data, label):\n",
    "    return data.astype(np.float32)/255, label.astype(np.float32)\n",
    "train_data = gluon.data.DataLoader(mx.gluon.data.vision.MNIST(train=True, transform=transform),\n",
    "                                      batch_size, shuffle=True)\n",
    "test_data = gluon.data.DataLoader(mx.gluon.data.vision.MNIST(train=False, transform=transform),\n",
    "                                     batch_size, shuffle=False)"
   ]
  },
  {
   "cell_type": "markdown",
   "metadata": {},
   "source": [
    "## Allocate parameters\n",
    "\n"
   ]
  },
  {
   "cell_type": "code",
   "execution_count": 4,
   "metadata": {},
   "outputs": [],
   "source": [
    "#######################\n",
    "#  Set some constants so it's easy to modify the network later\n",
    "####################### \n",
    "num_hidden = 256\n",
    "weight_scale = .01\n",
    "\n",
    "#######################\n",
    "#  Allocate parameters for the first hidden layer\n",
    "####################### \n",
    "W1 = nd.random_normal(shape=(num_inputs, num_hidden), scale=weight_scale, ctx=model_ctx)\n",
    "b1 = nd.random_normal(shape=num_hidden, scale=weight_scale, ctx=model_ctx)\n",
    "\n",
    "#######################\n",
    "#  Allocate parameters for the second hidden layer\n",
    "####################### \n",
    "W2 = nd.random_normal(shape=(num_hidden, num_hidden), scale=weight_scale, ctx=model_ctx)\n",
    "b2 = nd.random_normal(shape=num_hidden, scale=weight_scale, ctx=model_ctx)\n",
    "\n",
    "#######################\n",
    "#  Allocate parameters for the output layer\n",
    "####################### \n",
    "W3 = nd.random_normal(shape=(num_hidden, num_outputs), scale=weight_scale, ctx=model_ctx)\n",
    "b3 = nd.random_normal(shape=num_outputs, scale=weight_scale, ctx=model_ctx)\n",
    "\n",
    "params = [W1, b1, W2, b2, W3, b3]"
   ]
  },
  {
   "cell_type": "markdown",
   "metadata": {},
   "source": [
    "Again, let's allocate space for each parameter's gradients."
   ]
  },
  {
   "cell_type": "code",
   "execution_count": 5,
   "metadata": {},
   "outputs": [],
   "source": [
    "for param in params:\n",
    "    param.attach_grad()"
   ]
  },
  {
   "cell_type": "markdown",
   "metadata": {},
   "source": [
    "## Activation functions\n",
    "\n",
    "If we compose a multi-layer network but use only linear operations, then our entire network will still be a linear function. That's because $\\hat{y} = X \\cdot W_1 \\cdot W_2 \\cdot W_2 = X \\cdot W_4 $ for $W_4 = W_1 \\cdot W_2 \\cdot W3$. To give our model the capacity to capture nonlinear functions, we'll need to interleave our linear operations with activation functions. In this case, we'll use the rectified linear unit (ReLU):"
   ]
  },
  {
   "cell_type": "code",
   "execution_count": 6,
   "metadata": {},
   "outputs": [],
   "source": [
    "def relu(X):\n",
    "    return nd.maximum(X, nd.zeros_like(X))"
   ]
  },
  {
   "cell_type": "markdown",
   "metadata": {},
   "source": [
    "## Softmax output\n",
    "\n",
    "As with multiclass logistic regression, we'll want the outputs to constitute a valid probability distribution. We'll use the same softmax activation function on our output to make sure that our outputs sum to one and are non-negative."
   ]
  },
  {
   "cell_type": "code",
   "execution_count": 7,
   "metadata": {},
   "outputs": [],
   "source": [
    "def softmax(y_linear):\n",
    "    exp = nd.exp(y_linear-nd.max(y_linear))\n",
    "    partition = nd.nansum(exp, axis=0, exclude=True).reshape((-1, 1))\n",
    "    return exp / partition"
   ]
  },
  {
   "cell_type": "markdown",
   "metadata": {},
   "source": [
    "## The *softmax* cross-entropy loss function\n",
    "\n",
    "In the previous example, we calculated our model's output and then ran this output through the cross-entropy loss function: "
   ]
  },
  {
   "cell_type": "code",
   "execution_count": 8,
   "metadata": {},
   "outputs": [],
   "source": [
    "def cross_entropy(yhat, y):\n",
    "    return - nd.nansum(y * nd.log(yhat), axis=0, exclude=True)"
   ]
  },
  {
   "cell_type": "markdown",
   "metadata": {},
   "source": [
    "Mathematically, that's a perfectly reasonable thing to do. However, computationally, things can get hairy. We'll revisit the issue at length in a chapter more dedicated to implementation and less interested in statistical modeling. But we're going to make a change here so we want to give you the gist of why.\n",
    "\n",
    "Recall that the softmax function calculates $\\hat y_j = \\frac{e^{z_j}}{\\sum_{i=1}^{n} e^{z_i}}$, where $\\hat y_j$ is the j-th element of the input ``yhat`` variable in function ``cross_entropy`` and $z_j$ is the j-th element of the input ``y_linear`` variable in function ``softmax``\n",
    "\n",
    "If some of the $z_i$ are very large (i.e. very positive), $e^{z_i}$ might be larger than the largest number we can have for certain types of ``float`` (i.e. overflow). This would make the denominator (and/or numerator) ``inf`` and we get zero, or ``inf``, or ``nan`` for $\\hat y_j$. In any case, we won't get a well-defined return value for ``cross_entropy``. This is the reason we subtract $\\text{max}(z_i)$ from all $z_i$ first in ``softmax`` function. You can verify that this shifting in $z_i$ will not change the return value of ``softmax``.\n",
    "\n",
    "After the above subtraction/ normalization step, it is possible that $z_j$ is very negative. Thus, $e^{z_j}$ will be very close to zero and might be rounded to zero due to finite precision (i.e underflow), which makes $\\hat y_j$ zero and we get ``-inf`` for $\\text{log}(\\hat y_j)$. A few steps down the road in backpropagation, we starts to get horrific not-a-number (``nan``) results printed to screen.\n",
    "\n",
    "Our salvation is that even though we're computing these exponential functions, we ultimately plan to take their log in the cross-entropy functions. It turns out that by combining these two operators ``softmax`` and ``cross_entropy`` together, we can elude the numerical stability issues that might otherwise plague us during backpropagation. As shown in the equation below, we avoided calculating $e^{z_j}$ but directly used $z_j$ due to $log(exp(\\cdot))$.\n",
    "$$\\text{log}{(\\hat y_j)} = \\text{log}\\left( \\frac{e^{z_j}}{\\sum_{i=1}^{n} e^{z_i}}\\right) = \\text{log}{(e^{z_j})}-\\text{log}{\\left( \\sum_{i=1}^{n} e^{z_i} \\right)} = z_j -\\text{log}{\\left( \\sum_{i=1}^{n} e^{z_i} \\right)}$$\n",
    "\n",
    "We'll want to keep the conventional softmax function handy in case we ever want to evaluate the probabilities output by our model. But instead of passing softmax probabilities into our new loss function, we'll just pass our ``yhat_linear`` and compute the softmax and its log all at once inside the softmax_cross_entropy loss function, which does smart things like the log-sum-exp trick ([see on Wikipedia](https://en.wikipedia.org/wiki/LogSumExp)).\n"
   ]
  },
  {
   "cell_type": "code",
   "execution_count": 9,
   "metadata": {},
   "outputs": [],
   "source": [
    "def softmax_cross_entropy(yhat_linear, y):\n",
    "    return - nd.nansum(y * nd.log_softmax(yhat_linear), axis=0, exclude=True)"
   ]
  },
  {
   "cell_type": "markdown",
   "metadata": {},
   "source": [
    "## Define the model\n",
    "\n",
    "Now we're ready to define our model"
   ]
  },
  {
   "cell_type": "code",
   "execution_count": 10,
   "metadata": {},
   "outputs": [],
   "source": [
    "def net(X):\n",
    "    #######################\n",
    "    #  Compute the first hidden layer\n",
    "    #######################\n",
    "    h1_linear = nd.dot(X, W1) + b1\n",
    "    h1 = relu(h1_linear)\n",
    "\n",
    "    #######################\n",
    "    #  Compute the second hidden layer\n",
    "    #######################\n",
    "    h2_linear = nd.dot(h1, W2) + b2\n",
    "    h2 = relu(h2_linear)\n",
    "\n",
    "    #######################\n",
    "    #  Compute the output layer.\n",
    "    #  We will omit the softmax function here\n",
    "    #  because it will be applied\n",
    "    #  in the softmax_cross_entropy loss\n",
    "    #######################\n",
    "    yhat_linear = nd.dot(h2, W3) + b3\n",
    "    return yhat_linear"
   ]
  },
  {
   "cell_type": "markdown",
   "metadata": {},
   "source": [
    "## Optimizer"
   ]
  },
  {
   "cell_type": "code",
   "execution_count": 11,
   "metadata": {},
   "outputs": [],
   "source": [
    "def SGD(params, lr):\n",
    "    for param in params:\n",
    "        param[:] = param - lr * param.grad"
   ]
  },
  {
   "cell_type": "markdown",
   "metadata": {},
   "source": [
    "## Evaluation metric"
   ]
  },
  {
   "cell_type": "code",
   "execution_count": 12,
   "metadata": {},
   "outputs": [],
   "source": [
    "def evaluate_accuracy(data_iterator, net):\n",
    "    numerator = 0.\n",
    "    denominator = 0.\n",
    "    for i, (data, label) in enumerate(data_iterator):\n",
    "        data = data.as_in_context(model_ctx).reshape((-1, 784))\n",
    "        label = label.as_in_context(model_ctx)\n",
    "        output = net(data)\n",
    "        predictions = nd.argmax(output, axis=1)\n",
    "        numerator += nd.sum(predictions == label)\n",
    "        denominator += data.shape[0]\n",
    "    return (numerator / denominator).asscalar()"
   ]
  },
  {
   "cell_type": "markdown",
   "metadata": {},
   "source": [
    "## Execute the training loop"
   ]
  },
  {
   "cell_type": "code",
   "execution_count": 13,
   "metadata": {},
   "outputs": [
    {
     "name": "stdout",
     "output_type": "stream",
     "text": [
      "Epoch 0. Loss: 1.2515217730840047, Train_acc 0.87511665, Test_acc 0.8787\n",
      "Epoch 1. Loss: 0.32968043766816457, Train_acc 0.9273833, Test_acc 0.9287\n",
      "Epoch 2. Loss: 0.22200340533653895, Train_acc 0.9484, Test_acc 0.9453\n",
      "Epoch 3. Loss: 0.16145598207712172, Train_acc 0.96215, Test_acc 0.96\n",
      "Epoch 4. Loss: 0.1270556022286415, Train_acc 0.96815, Test_acc 0.9655\n",
      "Epoch 5. Loss: 0.1035012032210827, Train_acc 0.97286665, Test_acc 0.9648\n",
      "Epoch 6. Loss: 0.08724449458320936, Train_acc 0.9777667, Test_acc 0.9685\n",
      "Epoch 7. Loss: 0.07477289570420981, Train_acc 0.97943336, Test_acc 0.9703\n",
      "Epoch 8. Loss: 0.06435769413113594, Train_acc 0.9859333, Test_acc 0.9728\n",
      "Epoch 9. Loss: 0.05622949782436093, Train_acc 0.98763335, Test_acc 0.9754\n"
     ]
    }
   ],
   "source": [
    "epochs = 10\n",
    "learning_rate = .001\n",
    "smoothing_constant = .01\n",
    "\n",
    "for e in range(epochs):\n",
    "    cumulative_loss = 0\n",
    "    for i, (data, label) in enumerate(train_data):\n",
    "        data = data.as_in_context(model_ctx).reshape((-1, 784))\n",
    "        label = label.as_in_context(model_ctx)\n",
    "        label_one_hot = nd.one_hot(label, 10)\n",
    "        with autograd.record():\n",
    "            output = net(data)\n",
    "            loss = softmax_cross_entropy(output, label_one_hot)\n",
    "        loss.backward()\n",
    "        SGD(params, learning_rate)\n",
    "        cumulative_loss += nd.sum(loss).asscalar()\n",
    "\n",
    "\n",
    "    test_accuracy = evaluate_accuracy(test_data, net)\n",
    "    train_accuracy = evaluate_accuracy(train_data, net)\n",
    "    print(\"Epoch %s. Loss: %s, Train_acc %s, Test_acc %s\" %\n",
    "          (e, cumulative_loss/num_examples, train_accuracy, test_accuracy))"
   ]
  },
  {
   "cell_type": "markdown",
   "metadata": {},
   "source": [
    "## Using the model for prediction\n",
    "Let's pick a few random data points from the test set to visualize algonside our predictions. We already know quantitatively that the model is more accurate, but visualizing results is a good practice that can (1) help us to sanity check that our code is actually working and (2) provide intuition about what kinds of mistakes our model tends to make."
   ]
  },
  {
   "cell_type": "code",
   "execution_count": 14,
   "metadata": {},
   "outputs": [
    {
     "data": {
      "image/png": "[encoded data removed]",
      "text/plain": [
       "<Figure size 432x288 with 1 Axes>"
      ]
     },
     "metadata": {},
     "output_type": "display_data"
    },
    {
     "name": "stdout",
     "output_type": "stream",
     "text": [
      "model predictions are: \n",
      "[0. 1. 7. 3. 5. 1. 0. 4. 2. 7.]\n",
      "<NDArray 10 @gpu(0)>\n",
      "true labels : \n",
      "[0. 1. 7. 3. 5. 1. 0. 4. 2. 7.]\n",
      "<NDArray 10 @cpu(0)>\n"
     ]
    }
   ],
   "source": [
    "%matplotlib inline\n",
    "import matplotlib.pyplot as plt\n",
    "\n",
    "# Define the function to do prediction\n",
    "def model_predict(net,data):\n",
    "    output = net(data)\n",
    "    return nd.argmax(output, axis=1)\n",
    "\n",
    "samples = 10\n",
    "\n",
    "mnist_test = mx.gluon.data.vision.MNIST(train=False, transform=transform)\n",
    "\n",
    "# let's sample 10 random data points from the test set\n",
    "sample_data = mx.gluon.data.DataLoader(mnist_test, samples, shuffle=True)\n",
    "for i, (data, label) in enumerate(sample_data):\n",
    "    data = data.as_in_context(model_ctx)\n",
    "    im = nd.transpose(data,(1,0,2,3))\n",
    "    im = nd.reshape(im,(28,10*28,1))\n",
    "    imtiles = nd.tile(im, (1,1,3))\n",
    "    \n",
    "    plt.imshow(imtiles.asnumpy())\n",
    "    plt.show()\n",
    "    pred=model_predict(net,data.reshape((-1,784)))\n",
    "    print('model predictions are:', pred)\n",
    "    print('true labels :', label)\n",
    "    break"
   ]
  },
  {
   "cell_type": "markdown",
   "metadata": {},
   "source": [
    "## Conclusion\n",
    "\n",
    "Nice! With just two hidden layers containing 256 hidden nodes, respectively, we can achieve over 95% accuracy on this task. "
   ]
  },
  {
   "cell_type": "markdown",
   "metadata": {},
   "source": [
    "## Next\n",
    "[Multilayer perceptrons with gluon](../chapter03_deep-neural-networks/mlp-gluon.ipynb)"
   ]
  },
  {
   "cell_type": "markdown",
   "metadata": {},
   "source": [
    "For whinges or inquiries, [open an issue on  GitHub.](https://github.com/zackchase/mxnet-the-straight-dope)"
   ]
  }
 ],
 "metadata": {
  "kernelspec": {
   "display_name": "Python 3",
   "language": "python",
   "name": "python3"
  },
  "language_info": {
   "codemirror_mode": {
    "name": "ipython",
    "version": 3
   },
   "file_extension": ".py",
   "mimetype": "text/x-python",
   "name": "python",
   "nbconvert_exporter": "python",
   "pygments_lexer": "ipython3",
   "version": "3.6.5"
  },
  "widgets": {
   "state": {},
   "version": "1.1.2"
  }
 },
 "nbformat": 4,
 "nbformat_minor": 2
}
